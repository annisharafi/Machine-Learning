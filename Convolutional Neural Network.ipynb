{
  "nbformat": 4,
  "nbformat_minor": 0,
  "metadata": {
    "colab": {
      "name": "CNN",
      "version": "0.3.2",
      "provenance": [],
      "include_colab_link": true
    },
    "kernelspec": {
      "name": "python3",
      "display_name": "Python 3"
    },
    "accelerator": "GPU"
  },
  "cells": [
    {
      "cell_type": "markdown",
      "metadata": {
        "id": "view-in-github",
        "colab_type": "text"
      },
      "source": [
        "<a href=\"https://colab.research.google.com/github/annisharafi/MachineLearning/blob/master/Convolutional%20Neural%20Network.ipynb\" target=\"_parent\"><img src=\"https://colab.research.google.com/assets/colab-badge.svg\" alt=\"Open In Colab\"/></a>"
      ]
    },
    {
      "metadata": {
        "id": "BLVPa4OGkuvU",
        "colab_type": "text"
      },
      "cell_type": "markdown",
      "source": [
        "**Implementasi CNN pada MNIST Database ( large database of handwritten digits )**"
      ]
    },
    {
      "metadata": {
        "id": "AXkplMGhor1_",
        "colab_type": "code",
        "colab": {}
      },
      "cell_type": "code",
      "source": [
        "#mnist dataset import\n",
        "\n",
        "import keras\n",
        "from keras.datasets import mnist\n",
        "#load mnist dataset\n",
        "(x_train, y_train), (x_test, y_test) = mnist.load_data()"
      ],
      "execution_count": 0,
      "outputs": []
    },
    {
      "metadata": {
        "id": "ot6o9o_opg7q",
        "colab_type": "code",
        "colab": {
          "base_uri": "https://localhost:8080/",
          "height": 418
        },
        "outputId": "05c7c2c6-9f97-4df9-ce90-da667d09ae46"
      },
      "cell_type": "code",
      "source": [
        "#showing example of dataset\n",
        "import matplotlib.pyplot as plt\n",
        "for i in range(12):\n",
        "  plt.subplot(3,4,i+1)\n",
        "  plt.tight_layout()\n",
        "  plt.imshow(X_train[i], cmap='gray', interpolation='none')\n",
        "  plt.title(\"Angka: {}\".format(y_train[i]))\n",
        "  plt.xticks([])\n",
        "  plt.yticks([])\n",
        "plt.figure()"
      ],
      "execution_count": 134,
      "outputs": [
        {
          "output_type": "execute_result",
          "data": {
            "text/plain": [
              "<Figure size 576x396 with 0 Axes>"
            ]
          },
          "metadata": {
            "tags": []
          },
          "execution_count": 134
        },
        {
          "output_type": "display_data",
          "data": {
            "image/png": "[encoded data removed]",
            "text/plain": [
              "<Figure size 576x396 with 12 Axes>"
            ]
          },
          "metadata": {
            "tags": []
          }
        },
        {
          "output_type": "display_data",
          "data": {
            "text/plain": [
              "<Figure size 576x396 with 0 Axes>"
            ]
          },
          "metadata": {
            "tags": []
          }
        }
      ]
    },
    {
      "metadata": {
        "id": "wDYW1NnY2JdW",
        "colab_type": "code",
        "colab": {}
      },
      "cell_type": "code",
      "source": [
        "import tensorflow as tf\n",
        "from keras.models import Sequential\n",
        "from keras.layers import Dense, Conv2D, Dropout, Flatten, MaxPooling2D\n",
        "from keras.callbacks import History\n",
        "\n",
        "\n",
        "#normalize input data for keras processing\n",
        "x_train = x_train.reshape(x_train.shape[0], 28, 28, 1)\n",
        "x_test = x_test.reshape(x_test.shape[0], 28, 28, 1)\n",
        "\n",
        "#typecast into decimal\n",
        "x_train = x_train.astype('float32')\n",
        "x_test = x_test.astype('float32')\n",
        "\n",
        "\n",
        "x_train /= 255\n",
        "x_test /= 255"
      ],
      "execution_count": 0,
      "outputs": []
    },
    {
      "metadata": {
        "id": "-AesRgaP2mV4",
        "colab_type": "code",
        "colab": {
          "base_uri": "https://localhost:8080/",
          "height": 34
        },
        "outputId": "15340ced-7f2e-4068-af1f-0245c9b77e9d"
      },
      "cell_type": "code",
      "source": [
        "x_train.shape"
      ],
      "execution_count": 136,
      "outputs": [
        {
          "output_type": "execute_result",
          "data": {
            "text/plain": [
              "(60000, 28, 28, 1)"
            ]
          },
          "metadata": {
            "tags": []
          },
          "execution_count": 136
        }
      ]
    },
    {
      "metadata": {
        "id": "i29cwffsuRSz",
        "colab_type": "code",
        "colab": {}
      },
      "cell_type": "code",
      "source": [
        "#model building\n",
        "model = Sequential()\n",
        "\n",
        "#convolutional layer using Rectified Linear \n",
        "model.add(Conv2D(28, kernel_size=(3,3), input_shape=(28, 28, 1)))\n",
        "\n",
        "#choose the best feature using pooling\n",
        "model.add(MaxPooling2D(pool_size=(2, 2)))\n",
        "\n",
        "#flatten dimensions\n",
        "model.add(Flatten())\n",
        "model.add(Dense(128, activation=tf.nn.relu))\n",
        "model.add(Dropout(0.2))\n",
        "\n",
        "#output a softmax\n",
        "model.add(Dense(10,activation=tf.nn.softmax))"
      ],
      "execution_count": 0,
      "outputs": []
    },
    {
      "metadata": {
        "id": "bPekuUVkvQmD",
        "colab_type": "code",
        "outputId": "daf39767-192f-46a4-9c0f-6c65850ef2d6",
        "colab": {
          "base_uri": "https://localhost:8080/",
          "height": 357
        }
      },
      "cell_type": "code",
      "source": [
        "epoch=10\n",
        "history = History()\n",
        "model.compile(optimizer='adam', \n",
        "              loss='sparse_categorical_crossentropy', \n",
        "              metrics=['accuracy'])\n",
        "train_log = model.fit(x=x_train,y=y_train, epochs=epoch,callbacks=[history])"
      ],
      "execution_count": 138,
      "outputs": [
        {
          "output_type": "stream",
          "text": [
            "Epoch 1/10\n",
            "60000/60000 [==============================] - 12s 202us/step - loss: 0.2223 - acc: 0.9331\n",
            "Epoch 2/10\n",
            "60000/60000 [==============================] - 11s 192us/step - loss: 0.0892 - acc: 0.9728\n",
            "Epoch 3/10\n",
            "60000/60000 [==============================] - 11s 191us/step - loss: 0.0610 - acc: 0.9813\n",
            "Epoch 4/10\n",
            "60000/60000 [==============================] - 11s 191us/step - loss: 0.0486 - acc: 0.9845\n",
            "Epoch 5/10\n",
            "60000/60000 [==============================] - 11s 191us/step - loss: 0.0383 - acc: 0.9868\n",
            "Epoch 6/10\n",
            "60000/60000 [==============================] - 11s 190us/step - loss: 0.0330 - acc: 0.9887\n",
            "Epoch 7/10\n",
            "60000/60000 [==============================] - 11s 191us/step - loss: 0.0261 - acc: 0.9914\n",
            "Epoch 8/10\n",
            "60000/60000 [==============================] - 12s 192us/step - loss: 0.0226 - acc: 0.9924\n",
            "Epoch 9/10\n",
            "60000/60000 [==============================] - 11s 191us/step - loss: 0.0207 - acc: 0.9930\n",
            "Epoch 10/10\n",
            "60000/60000 [==============================] - 11s 190us/step - loss: 0.0171 - acc: 0.9938\n"
          ],
          "name": "stdout"
        }
      ]
    },
    {
      "metadata": {
        "id": "c-BmbCq6xioS",
        "colab_type": "code",
        "colab": {
          "base_uri": "https://localhost:8080/",
          "height": 357
        },
        "outputId": "5f7bbd00-c5e7-4a37-cb7b-af2b0c5539d8"
      },
      "cell_type": "code",
      "source": [
        "train_log.history"
      ],
      "execution_count": 143,
      "outputs": [
        {
          "output_type": "execute_result",
          "data": {
            "text/plain": [
              "{'acc': [0.9330833333333334,\n",
              "  0.97275,\n",
              "  0.9812666666666666,\n",
              "  0.9844833333333334,\n",
              "  0.9867833333333333,\n",
              "  0.9887,\n",
              "  0.9914,\n",
              "  0.9923833333333333,\n",
              "  0.9929666666666667,\n",
              "  0.9938166666666667],\n",
              " 'loss': [0.22227636054133376,\n",
              "  0.08918300942567488,\n",
              "  0.061023080582218246,\n",
              "  0.04859178555961698,\n",
              "  0.038299691250446875,\n",
              "  0.03296585228590993,\n",
              "  0.02613253083970873,\n",
              "  0.02262564745107399,\n",
              "  0.02072385875361603,\n",
              "  0.017090094521760572]}"
            ]
          },
          "metadata": {
            "tags": []
          },
          "execution_count": 143
        }
      ]
    },
    {
      "metadata": {
        "id": "woxfcRxizQqs",
        "colab_type": "code",
        "colab": {
          "base_uri": "https://localhost:8080/",
          "height": 51
        },
        "outputId": "b82dfefc-c716-493f-b8d1-b285d9bd0a7c"
      },
      "cell_type": "code",
      "source": [
        "#menghitung akurasi dan loss data validation\n",
        "valid_log = model.evaluate(x_test, y_test)\n",
        "valid_log"
      ],
      "execution_count": 144,
      "outputs": [
        {
          "output_type": "stream",
          "text": [
            "10000/10000 [==============================] - 1s 69us/step\n"
          ],
          "name": "stdout"
        },
        {
          "output_type": "execute_result",
          "data": {
            "text/plain": [
              "[0.05346816610185706, 0.9865]"
            ]
          },
          "metadata": {
            "tags": []
          },
          "execution_count": 144
        }
      ]
    },
    {
      "metadata": {
        "id": "XgeYyQ8BzUDC",
        "colab_type": "code",
        "colab": {
          "base_uri": "https://localhost:8080/",
          "height": 361
        },
        "outputId": "91d0a499-e927-4116-e5a4-945a17cad3db"
      },
      "cell_type": "code",
      "source": [
        "# plotting the metrics\n",
        "plt.plot(train_log.history['loss'],label='Training')\n",
        "plt.ylabel('Loss')\n",
        "plt.xlabel('Epoch')\n",
        "plt.legend()\n",
        "plt.show()\n"
      ],
      "execution_count": 145,
      "outputs": [
        {
          "output_type": "display_data",
          "data": {
            "image/png": "[encoded data removed]",
            "text/plain": [
              "<Figure size 576x396 with 1 Axes>"
            ]
          },
          "metadata": {
            "tags": []
          }
        }
      ]
    },
    {
      "metadata": {
        "id": "Wp-a52h3zT8G",
        "colab_type": "code",
        "colab": {
          "base_uri": "https://localhost:8080/",
          "height": 361
        },
        "outputId": "cb5f5df6-f103-4592-97ea-73c53ff5c715"
      },
      "cell_type": "code",
      "source": [
        "# plotting the metrics\n",
        "plt.plot(train_log.history['acc'],label='Accuracy')\n",
        "plt.ylabel('Acc')\n",
        "plt.xlabel('Epoch')\n",
        "plt.legend()\n",
        "plt.show()\n"
      ],
      "execution_count": 148,
      "outputs": [
        {
          "output_type": "display_data",
          "data": {
            "image/png": "[encoded data removed]",
            "text/plain": [
              "<Figure size 576x396 with 1 Axes>"
            ]
          },
          "metadata": {
            "tags": []
          }
        }
      ]
    }
  ]
}