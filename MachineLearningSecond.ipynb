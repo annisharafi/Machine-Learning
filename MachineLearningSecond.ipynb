{
 "cells": [
  {
   "cell_type": "code",
   "execution_count": 1,
   "metadata": {
    "collapsed": true
   },
   "outputs": [],
   "source": [
    "import pandas as pd\n",
    "import numpy as np\n",
    "from functools import reduce\n",
    "idx = ['sepalLength','sepalWidth','petalLength','petalWidth','name', 'code']"
   ]
  },
  {
   "cell_type": "code",
   "execution_count": 2,
   "metadata": {
    "collapsed": false,
    "scrolled": true
   },
   "outputs": [
    {
     "data": {
      "text/html": [
       "<div>\n",
       "<table border=\"1\" class=\"dataframe\">\n",
       "  <thead>\n",
       "    <tr style=\"text-align: right;\">\n",
       "      <th></th>\n",
       "      <th>sepalLength</th>\n",
       "      <th>sepalWidth</th>\n",
       "      <th>petalLength</th>\n",
       "      <th>petalWidth</th>\n",
       "      <th>name</th>\n",
       "      <th>code</th>\n",
       "    </tr>\n",
       "  </thead>\n",
       "  <tbody>\n",
       "    <tr>\n",
       "      <th>0</th>\n",
       "      <td>5.1</td>\n",
       "      <td>3.5</td>\n",
       "      <td>1.4</td>\n",
       "      <td>0.2</td>\n",
       "      <td>setosa</td>\n",
       "      <td>NaN</td>\n",
       "    </tr>\n",
       "    <tr>\n",
       "      <th>1</th>\n",
       "      <td>4.9</td>\n",
       "      <td>3.0</td>\n",
       "      <td>1.4</td>\n",
       "      <td>0.2</td>\n",
       "      <td>setosa</td>\n",
       "      <td>NaN</td>\n",
       "    </tr>\n",
       "    <tr>\n",
       "      <th>2</th>\n",
       "      <td>4.7</td>\n",
       "      <td>3.2</td>\n",
       "      <td>1.3</td>\n",
       "      <td>0.2</td>\n",
       "      <td>setosa</td>\n",
       "      <td>NaN</td>\n",
       "    </tr>\n",
       "    <tr>\n",
       "      <th>3</th>\n",
       "      <td>4.6</td>\n",
       "      <td>3.1</td>\n",
       "      <td>1.5</td>\n",
       "      <td>0.2</td>\n",
       "      <td>setosa</td>\n",
       "      <td>NaN</td>\n",
       "    </tr>\n",
       "    <tr>\n",
       "      <th>4</th>\n",
       "      <td>5.0</td>\n",
       "      <td>3.6</td>\n",
       "      <td>1.4</td>\n",
       "      <td>0.2</td>\n",
       "      <td>setosa</td>\n",
       "      <td>NaN</td>\n",
       "    </tr>\n",
       "  </tbody>\n",
       "</table>\n",
       "</div>"
      ],
      "text/plain": [
       "   sepalLength  sepalWidth  petalLength  petalWidth    name  code\n",
       "0          5.1         3.5          1.4         0.2  setosa   NaN\n",
       "1          4.9         3.0          1.4         0.2  setosa   NaN\n",
       "2          4.7         3.2          1.3         0.2  setosa   NaN\n",
       "3          4.6         3.1          1.5         0.2  setosa   NaN\n",
       "4          5.0         3.6          1.4         0.2  setosa   NaN"
      ]
     },
     "execution_count": 2,
     "metadata": {},
     "output_type": "execute_result"
    }
   ],
   "source": [
    "df= pd.read_csv('D:\\iris.csv',names=idx)\n",
    "df.head()"
   ]
  },
  {
   "cell_type": "code",
   "execution_count": 3,
   "metadata": {
    "collapsed": true
   },
   "outputs": [],
   "source": [
    "df = df.assign(code=0.0, weigth1=0.0, weigth2=0.0, weigth3=0.0, weigth4=0.0, bias=0.0, result=0.0, activation = 0.0, prediction = 0.0, error=0.0, dweigth1 = 0.0,\n",
    "           dweigth2=0.0, dweigth3=0.0, dweigth4=0.0, dbias=0.0)"
   ]
  },
  {
   "cell_type": "code",
   "execution_count": null,
   "metadata": {
    "collapsed": false
   },
   "outputs": [],
   "source": [
    "df.info()"
   ]
  },
  {
   "cell_type": "code",
   "execution_count": 4,
   "metadata": {
    "collapsed": false
   },
   "outputs": [
    {
     "name": "stderr",
     "output_type": "stream",
     "text": [
      "C:\\Users\\annishafirdausy\\Anaconda3\\lib\\site-packages\\ipykernel\\__main__.py:2: SettingWithCopyWarning: \n",
      "A value is trying to be set on a copy of a slice from a DataFrame\n",
      "\n",
      "See the caveats in the documentation: http://pandas.pydata.org/pandas-docs/stable/indexing.html#indexing-view-versus-copy\n",
      "  from ipykernel import kernelapp as app\n"
     ]
    }
   ],
   "source": [
    "for i,j in enumerate(df.name):\n",
    "    df.code[i] = 1.0 if j == 'setosa' else 0.0"
   ]
  },
  {
   "cell_type": "code",
   "execution_count": 5,
   "metadata": {
    "collapsed": false
   },
   "outputs": [],
   "source": [
    "section1 = df[:10].append(df[90:100],ignore_index=True)\n",
    "section2 = df[10:20].append(df[80:90],ignore_index=True)\n",
    "section3 = df[20:30].append(df[70:80],ignore_index=True)\n",
    "section4 = df[30:40].append(df[60:70],ignore_index=True)\n",
    "section5 = df[40:50].append(df[70:80],ignore_index=True)\n",
    "\n"
   ]
  },
  {
   "cell_type": "code",
   "execution_count": 6,
   "metadata": {
    "collapsed": false
   },
   "outputs": [],
   "source": [
    "training1 = pd.concat([section1,section2,section3,section4],ignore_index=True)\n",
    "training2 = pd.concat([section2,section3,section4,section5],ignore_index=True)\n",
    "training3 = pd.concat([section1,section3,section4,section5],ignore_index=True)\n",
    "training4 = pd.concat([section1,section2,section4,section5],ignore_index=True)\n",
    "training5 = pd.concat([section1,section2,section3,section5],ignore_index=True)\n",
    "\n",
    "train= [training1,training2,training3,training4,training5]\n",
    "validasi =[section5, section1, section2, section3,section4]"
   ]
  },
  {
   "cell_type": "code",
   "execution_count": null,
   "metadata": {
    "collapsed": false
   },
   "outputs": [],
   "source": [
    "validasi[1]"
   ]
  },
  {
   "cell_type": "code",
   "execution_count": 7,
   "metadata": {
    "collapsed": true
   },
   "outputs": [],
   "source": [
    "import math as m\n"
   ]
  },
  {
   "cell_type": "code",
   "execution_count": 8,
   "metadata": {
    "collapsed": false
   },
   "outputs": [],
   "source": [
    "def total(inp, weigth,bias,dbias):\n",
    "    totalWeight = np.dot(inp,weigth)+(bias*dbias)\n",
    "    return totalWeight\n",
    "\n",
    "def activation(totalWeight):\n",
    "    aktivasi= (1/(1+(m.exp(-totalWeight))))\n",
    "    return aktivasi\n",
    "\n",
    "def dt(x, act, target):\n",
    "    turunan = 2*x*act*(act-target)*(1-act)\n",
    "    return turunan\n",
    "\n",
    "def error(act,target):\n",
    "    error = (1/2*(pow((act-target),2))) \n",
    "    return error\n",
    "def prediction(act):\n",
    "    if (act>=0.5):\n",
    "        return 1\n",
    "    else:\n",
    "        return 0\n",
    "\n",
    "def newWeigth(weight, dt,lRate):\n",
    "    return (weight-(lRate*dt))\n",
    "\n",
    "def newBias(bias,dt,lRate):\n",
    "    return (bias-(lRate*dt))\n",
    "\n",
    "def accuration(pred, target):\n",
    "  TP = 0.0\n",
    "  TN = 0.0\n",
    "  FP = 0.0\n",
    "  FN = 0.0\n",
    "  for i in range(20):\n",
    "    if target[i] == 1.0 and pred[i] == 1.0:\n",
    "      TP = TP + 1.0\n",
    "    elif target[i] ==1.0 and pred[i] == 0.0:\n",
    "      FN = FN + 1.0\n",
    "    elif target[i] == 0.0 and pred[i] == 0.0:\n",
    "      TN = TN + 1.0\n",
    "    elif target[i] == 0.0 and pred[i] ==1.0:\n",
    "      FP = FP + 1.0\n",
    "  return ((TP+TN)/(TP+TN+FP+FN))\n",
    "    \n"
   ]
  },
  {
   "cell_type": "code",
   "execution_count": 9,
   "metadata": {
    "collapsed": false,
    "scrolled": false
   },
   "outputs": [
    {
     "name": "stderr",
     "output_type": "stream",
     "text": [
      "C:\\Users\\annishafirdausy\\Anaconda3\\lib\\site-packages\\ipykernel\\__main__.py:12: SettingWithCopyWarning: \n",
      "A value is trying to be set on a copy of a slice from a DataFrame\n",
      "\n",
      "See the caveats in the documentation: http://pandas.pydata.org/pandas-docs/stable/indexing.html#indexing-view-versus-copy\n",
      "C:\\Users\\annishafirdausy\\Anaconda3\\lib\\site-packages\\ipykernel\\__main__.py:13: SettingWithCopyWarning: \n",
      "A value is trying to be set on a copy of a slice from a DataFrame\n",
      "\n",
      "See the caveats in the documentation: http://pandas.pydata.org/pandas-docs/stable/indexing.html#indexing-view-versus-copy\n",
      "C:\\Users\\annishafirdausy\\Anaconda3\\lib\\site-packages\\ipykernel\\__main__.py:14: SettingWithCopyWarning: \n",
      "A value is trying to be set on a copy of a slice from a DataFrame\n",
      "\n",
      "See the caveats in the documentation: http://pandas.pydata.org/pandas-docs/stable/indexing.html#indexing-view-versus-copy\n",
      "C:\\Users\\annishafirdausy\\Anaconda3\\lib\\site-packages\\ipykernel\\__main__.py:15: SettingWithCopyWarning: \n",
      "A value is trying to be set on a copy of a slice from a DataFrame\n",
      "\n",
      "See the caveats in the documentation: http://pandas.pydata.org/pandas-docs/stable/indexing.html#indexing-view-versus-copy\n",
      "C:\\Users\\annishafirdausy\\Anaconda3\\lib\\site-packages\\ipykernel\\__main__.py:16: SettingWithCopyWarning: \n",
      "A value is trying to be set on a copy of a slice from a DataFrame\n",
      "\n",
      "See the caveats in the documentation: http://pandas.pydata.org/pandas-docs/stable/indexing.html#indexing-view-versus-copy\n",
      "C:\\Users\\annishafirdausy\\Anaconda3\\lib\\site-packages\\ipykernel\\__main__.py:18: SettingWithCopyWarning: \n",
      "A value is trying to be set on a copy of a slice from a DataFrame\n",
      "\n",
      "See the caveats in the documentation: http://pandas.pydata.org/pandas-docs/stable/indexing.html#indexing-view-versus-copy\n",
      "C:\\Users\\annishafirdausy\\Anaconda3\\lib\\site-packages\\ipykernel\\__main__.py:19: SettingWithCopyWarning: \n",
      "A value is trying to be set on a copy of a slice from a DataFrame\n",
      "\n",
      "See the caveats in the documentation: http://pandas.pydata.org/pandas-docs/stable/indexing.html#indexing-view-versus-copy\n",
      "C:\\Users\\annishafirdausy\\Anaconda3\\lib\\site-packages\\ipykernel\\__main__.py:20: SettingWithCopyWarning: \n",
      "A value is trying to be set on a copy of a slice from a DataFrame\n",
      "\n",
      "See the caveats in the documentation: http://pandas.pydata.org/pandas-docs/stable/indexing.html#indexing-view-versus-copy\n",
      "C:\\Users\\annishafirdausy\\Anaconda3\\lib\\site-packages\\ipykernel\\__main__.py:21: SettingWithCopyWarning: \n",
      "A value is trying to be set on a copy of a slice from a DataFrame\n",
      "\n",
      "See the caveats in the documentation: http://pandas.pydata.org/pandas-docs/stable/indexing.html#indexing-view-versus-copy\n",
      "C:\\Users\\annishafirdausy\\Anaconda3\\lib\\site-packages\\ipykernel\\__main__.py:23: SettingWithCopyWarning: \n",
      "A value is trying to be set on a copy of a slice from a DataFrame\n",
      "\n",
      "See the caveats in the documentation: http://pandas.pydata.org/pandas-docs/stable/indexing.html#indexing-view-versus-copy\n",
      "C:\\Users\\annishafirdausy\\Anaconda3\\lib\\site-packages\\ipykernel\\__main__.py:24: SettingWithCopyWarning: \n",
      "A value is trying to be set on a copy of a slice from a DataFrame\n",
      "\n",
      "See the caveats in the documentation: http://pandas.pydata.org/pandas-docs/stable/indexing.html#indexing-view-versus-copy\n",
      "C:\\Users\\annishafirdausy\\Anaconda3\\lib\\site-packages\\ipykernel\\__main__.py:25: SettingWithCopyWarning: \n",
      "A value is trying to be set on a copy of a slice from a DataFrame\n",
      "\n",
      "See the caveats in the documentation: http://pandas.pydata.org/pandas-docs/stable/indexing.html#indexing-view-versus-copy\n",
      "C:\\Users\\annishafirdausy\\Anaconda3\\lib\\site-packages\\ipykernel\\__main__.py:26: SettingWithCopyWarning: \n",
      "A value is trying to be set on a copy of a slice from a DataFrame\n",
      "\n",
      "See the caveats in the documentation: http://pandas.pydata.org/pandas-docs/stable/indexing.html#indexing-view-versus-copy\n",
      "C:\\Users\\annishafirdausy\\Anaconda3\\lib\\site-packages\\ipykernel\\__main__.py:27: SettingWithCopyWarning: \n",
      "A value is trying to be set on a copy of a slice from a DataFrame\n",
      "\n",
      "See the caveats in the documentation: http://pandas.pydata.org/pandas-docs/stable/indexing.html#indexing-view-versus-copy\n",
      "C:\\Users\\annishafirdausy\\Anaconda3\\lib\\site-packages\\ipykernel\\__main__.py:52: SettingWithCopyWarning: \n",
      "A value is trying to be set on a copy of a slice from a DataFrame\n",
      "\n",
      "See the caveats in the documentation: http://pandas.pydata.org/pandas-docs/stable/indexing.html#indexing-view-versus-copy\n",
      "C:\\Users\\annishafirdausy\\Anaconda3\\lib\\site-packages\\ipykernel\\__main__.py:53: SettingWithCopyWarning: \n",
      "A value is trying to be set on a copy of a slice from a DataFrame\n",
      "\n",
      "See the caveats in the documentation: http://pandas.pydata.org/pandas-docs/stable/indexing.html#indexing-view-versus-copy\n",
      "C:\\Users\\annishafirdausy\\Anaconda3\\lib\\site-packages\\ipykernel\\__main__.py:54: SettingWithCopyWarning: \n",
      "A value is trying to be set on a copy of a slice from a DataFrame\n",
      "\n",
      "See the caveats in the documentation: http://pandas.pydata.org/pandas-docs/stable/indexing.html#indexing-view-versus-copy\n",
      "C:\\Users\\annishafirdausy\\Anaconda3\\lib\\site-packages\\ipykernel\\__main__.py:55: SettingWithCopyWarning: \n",
      "A value is trying to be set on a copy of a slice from a DataFrame\n",
      "\n",
      "See the caveats in the documentation: http://pandas.pydata.org/pandas-docs/stable/indexing.html#indexing-view-versus-copy\n",
      "C:\\Users\\annishafirdausy\\Anaconda3\\lib\\site-packages\\ipykernel\\__main__.py:56: SettingWithCopyWarning: \n",
      "A value is trying to be set on a copy of a slice from a DataFrame\n",
      "\n",
      "See the caveats in the documentation: http://pandas.pydata.org/pandas-docs/stable/indexing.html#indexing-view-versus-copy\n",
      "C:\\Users\\annishafirdausy\\Anaconda3\\lib\\site-packages\\ipykernel\\__main__.py:58: SettingWithCopyWarning: \n",
      "A value is trying to be set on a copy of a slice from a DataFrame\n",
      "\n",
      "See the caveats in the documentation: http://pandas.pydata.org/pandas-docs/stable/indexing.html#indexing-view-versus-copy\n",
      "C:\\Users\\annishafirdausy\\Anaconda3\\lib\\site-packages\\ipykernel\\__main__.py:59: SettingWithCopyWarning: \n",
      "A value is trying to be set on a copy of a slice from a DataFrame\n",
      "\n",
      "See the caveats in the documentation: http://pandas.pydata.org/pandas-docs/stable/indexing.html#indexing-view-versus-copy\n",
      "C:\\Users\\annishafirdausy\\Anaconda3\\lib\\site-packages\\ipykernel\\__main__.py:60: SettingWithCopyWarning: \n",
      "A value is trying to be set on a copy of a slice from a DataFrame\n",
      "\n",
      "See the caveats in the documentation: http://pandas.pydata.org/pandas-docs/stable/indexing.html#indexing-view-versus-copy\n",
      "C:\\Users\\annishafirdausy\\Anaconda3\\lib\\site-packages\\ipykernel\\__main__.py:61: SettingWithCopyWarning: \n",
      "A value is trying to be set on a copy of a slice from a DataFrame\n",
      "\n",
      "See the caveats in the documentation: http://pandas.pydata.org/pandas-docs/stable/indexing.html#indexing-view-versus-copy\n",
      "C:\\Users\\annishafirdausy\\Anaconda3\\lib\\site-packages\\ipykernel\\__main__.py:63: SettingWithCopyWarning: \n",
      "A value is trying to be set on a copy of a slice from a DataFrame\n",
      "\n",
      "See the caveats in the documentation: http://pandas.pydata.org/pandas-docs/stable/indexing.html#indexing-view-versus-copy\n",
      "C:\\Users\\annishafirdausy\\Anaconda3\\lib\\site-packages\\ipykernel\\__main__.py:64: SettingWithCopyWarning: \n",
      "A value is trying to be set on a copy of a slice from a DataFrame\n",
      "\n",
      "See the caveats in the documentation: http://pandas.pydata.org/pandas-docs/stable/indexing.html#indexing-view-versus-copy\n",
      "C:\\Users\\annishafirdausy\\Anaconda3\\lib\\site-packages\\ipykernel\\__main__.py:65: SettingWithCopyWarning: \n",
      "A value is trying to be set on a copy of a slice from a DataFrame\n",
      "\n",
      "See the caveats in the documentation: http://pandas.pydata.org/pandas-docs/stable/indexing.html#indexing-view-versus-copy\n",
      "C:\\Users\\annishafirdausy\\Anaconda3\\lib\\site-packages\\ipykernel\\__main__.py:66: SettingWithCopyWarning: \n",
      "A value is trying to be set on a copy of a slice from a DataFrame\n",
      "\n",
      "See the caveats in the documentation: http://pandas.pydata.org/pandas-docs/stable/indexing.html#indexing-view-versus-copy\n",
      "C:\\Users\\annishafirdausy\\Anaconda3\\lib\\site-packages\\ipykernel\\__main__.py:76: SettingWithCopyWarning: \n",
      "A value is trying to be set on a copy of a slice from a DataFrame\n",
      "\n",
      "See the caveats in the documentation: http://pandas.pydata.org/pandas-docs/stable/indexing.html#indexing-view-versus-copy\n",
      "C:\\Users\\annishafirdausy\\Anaconda3\\lib\\site-packages\\ipykernel\\__main__.py:77: SettingWithCopyWarning: \n",
      "A value is trying to be set on a copy of a slice from a DataFrame\n",
      "\n",
      "See the caveats in the documentation: http://pandas.pydata.org/pandas-docs/stable/indexing.html#indexing-view-versus-copy\n",
      "C:\\Users\\annishafirdausy\\Anaconda3\\lib\\site-packages\\ipykernel\\__main__.py:78: SettingWithCopyWarning: \n",
      "A value is trying to be set on a copy of a slice from a DataFrame\n",
      "\n",
      "See the caveats in the documentation: http://pandas.pydata.org/pandas-docs/stable/indexing.html#indexing-view-versus-copy\n",
      "C:\\Users\\annishafirdausy\\Anaconda3\\lib\\site-packages\\ipykernel\\__main__.py:79: SettingWithCopyWarning: \n",
      "A value is trying to be set on a copy of a slice from a DataFrame\n",
      "\n",
      "See the caveats in the documentation: http://pandas.pydata.org/pandas-docs/stable/indexing.html#indexing-view-versus-copy\n",
      "C:\\Users\\annishafirdausy\\Anaconda3\\lib\\site-packages\\ipykernel\\__main__.py:81: SettingWithCopyWarning: \n",
      "A value is trying to be set on a copy of a slice from a DataFrame\n",
      "\n",
      "See the caveats in the documentation: http://pandas.pydata.org/pandas-docs/stable/indexing.html#indexing-view-versus-copy\n",
      "C:\\Users\\annishafirdausy\\Anaconda3\\lib\\site-packages\\ipykernel\\__main__.py:82: SettingWithCopyWarning: \n",
      "A value is trying to be set on a copy of a slice from a DataFrame\n",
      "\n",
      "See the caveats in the documentation: http://pandas.pydata.org/pandas-docs/stable/indexing.html#indexing-view-versus-copy\n",
      "C:\\Users\\annishafirdausy\\Anaconda3\\lib\\site-packages\\ipykernel\\__main__.py:83: SettingWithCopyWarning: \n",
      "A value is trying to be set on a copy of a slice from a DataFrame\n",
      "\n",
      "See the caveats in the documentation: http://pandas.pydata.org/pandas-docs/stable/indexing.html#indexing-view-versus-copy\n",
      "C:\\Users\\annishafirdausy\\Anaconda3\\lib\\site-packages\\ipykernel\\__main__.py:84: SettingWithCopyWarning: \n",
      "A value is trying to be set on a copy of a slice from a DataFrame\n",
      "\n",
      "See the caveats in the documentation: http://pandas.pydata.org/pandas-docs/stable/indexing.html#indexing-view-versus-copy\n",
      "C:\\Users\\annishafirdausy\\Anaconda3\\lib\\site-packages\\ipykernel\\__main__.py:32: SettingWithCopyWarning: \n",
      "A value is trying to be set on a copy of a slice from a DataFrame\n",
      "\n",
      "See the caveats in the documentation: http://pandas.pydata.org/pandas-docs/stable/indexing.html#indexing-view-versus-copy\n",
      "C:\\Users\\annishafirdausy\\Anaconda3\\lib\\site-packages\\ipykernel\\__main__.py:33: SettingWithCopyWarning: \n",
      "A value is trying to be set on a copy of a slice from a DataFrame\n",
      "\n",
      "See the caveats in the documentation: http://pandas.pydata.org/pandas-docs/stable/indexing.html#indexing-view-versus-copy\n",
      "C:\\Users\\annishafirdausy\\Anaconda3\\lib\\site-packages\\ipykernel\\__main__.py:34: SettingWithCopyWarning: \n",
      "A value is trying to be set on a copy of a slice from a DataFrame\n",
      "\n",
      "See the caveats in the documentation: http://pandas.pydata.org/pandas-docs/stable/indexing.html#indexing-view-versus-copy\n",
      "C:\\Users\\annishafirdausy\\Anaconda3\\lib\\site-packages\\ipykernel\\__main__.py:35: SettingWithCopyWarning: \n",
      "A value is trying to be set on a copy of a slice from a DataFrame\n",
      "\n",
      "See the caveats in the documentation: http://pandas.pydata.org/pandas-docs/stable/indexing.html#indexing-view-versus-copy\n",
      "C:\\Users\\annishafirdausy\\Anaconda3\\lib\\site-packages\\ipykernel\\__main__.py:36: SettingWithCopyWarning: \n",
      "A value is trying to be set on a copy of a slice from a DataFrame\n",
      "\n",
      "See the caveats in the documentation: http://pandas.pydata.org/pandas-docs/stable/indexing.html#indexing-view-versus-copy\n",
      "C:\\Users\\annishafirdausy\\Anaconda3\\lib\\site-packages\\ipykernel\\__main__.py:38: SettingWithCopyWarning: \n",
      "A value is trying to be set on a copy of a slice from a DataFrame\n",
      "\n",
      "See the caveats in the documentation: http://pandas.pydata.org/pandas-docs/stable/indexing.html#indexing-view-versus-copy\n",
      "C:\\Users\\annishafirdausy\\Anaconda3\\lib\\site-packages\\ipykernel\\__main__.py:39: SettingWithCopyWarning: \n",
      "A value is trying to be set on a copy of a slice from a DataFrame\n",
      "\n",
      "See the caveats in the documentation: http://pandas.pydata.org/pandas-docs/stable/indexing.html#indexing-view-versus-copy\n",
      "C:\\Users\\annishafirdausy\\Anaconda3\\lib\\site-packages\\ipykernel\\__main__.py:40: SettingWithCopyWarning: \n",
      "A value is trying to be set on a copy of a slice from a DataFrame\n",
      "\n",
      "See the caveats in the documentation: http://pandas.pydata.org/pandas-docs/stable/indexing.html#indexing-view-versus-copy\n",
      "C:\\Users\\annishafirdausy\\Anaconda3\\lib\\site-packages\\ipykernel\\__main__.py:41: SettingWithCopyWarning: \n",
      "A value is trying to be set on a copy of a slice from a DataFrame\n",
      "\n",
      "See the caveats in the documentation: http://pandas.pydata.org/pandas-docs/stable/indexing.html#indexing-view-versus-copy\n",
      "C:\\Users\\annishafirdausy\\Anaconda3\\lib\\site-packages\\ipykernel\\__main__.py:43: SettingWithCopyWarning: \n",
      "A value is trying to be set on a copy of a slice from a DataFrame\n",
      "\n",
      "See the caveats in the documentation: http://pandas.pydata.org/pandas-docs/stable/indexing.html#indexing-view-versus-copy\n",
      "C:\\Users\\annishafirdausy\\Anaconda3\\lib\\site-packages\\ipykernel\\__main__.py:44: SettingWithCopyWarning: \n",
      "A value is trying to be set on a copy of a slice from a DataFrame\n",
      "\n",
      "See the caveats in the documentation: http://pandas.pydata.org/pandas-docs/stable/indexing.html#indexing-view-versus-copy\n",
      "C:\\Users\\annishafirdausy\\Anaconda3\\lib\\site-packages\\ipykernel\\__main__.py:45: SettingWithCopyWarning: \n",
      "A value is trying to be set on a copy of a slice from a DataFrame\n",
      "\n",
      "See the caveats in the documentation: http://pandas.pydata.org/pandas-docs/stable/indexing.html#indexing-view-versus-copy\n",
      "C:\\Users\\annishafirdausy\\Anaconda3\\lib\\site-packages\\ipykernel\\__main__.py:46: SettingWithCopyWarning: \n",
      "A value is trying to be set on a copy of a slice from a DataFrame\n",
      "\n",
      "See the caveats in the documentation: http://pandas.pydata.org/pandas-docs/stable/indexing.html#indexing-view-versus-copy\n",
      "C:\\Users\\annishafirdausy\\Anaconda3\\lib\\site-packages\\ipykernel\\__main__.py:47: SettingWithCopyWarning: \n",
      "A value is trying to be set on a copy of a slice from a DataFrame\n",
      "\n",
      "See the caveats in the documentation: http://pandas.pydata.org/pandas-docs/stable/indexing.html#indexing-view-versus-copy\n"
     ]
    }
   ],
   "source": [
    "plot_error= np.zeros((5,5))\n",
    "plot_accuracy= np.zeros((5,5))\n",
    "plot_errorV= np.zeros((5,5))\n",
    "plot_accuracyV= np.zeros((5,5))\n",
    "\n",
    "for i in range (5):\n",
    "    for j in range (5):\n",
    "        for k in range (80):\n",
    "            inp = [train[i]['sepalLength'][k],train[i]['sepalWidth'][k],train[i]['petalLength'][k],train[i]['petalWidth'][k]]\n",
    "            if j==0 and k==0:\n",
    "                weigth = [0.5, 0.5, 0.5, 0.5]\n",
    "                train[i]['bias'][k]=0.5\n",
    "                train[i]['weigth1'][k]=weigth[0]\n",
    "                train[i]['weigth2'][k]=weigth[1]\n",
    "                train[i]['weigth3'][k]=weigth[2]\n",
    "                train[i]['weigth4'][k]=weigth[3]\n",
    "                \n",
    "                train[i]['result'][k]=total(inp,weigth,1,training1['bias'][k])\n",
    "                train[i]['activation'][k]=activation(training1['result'][k])\n",
    "                train[i]['prediction'][k]=prediction(training1['activation'][k])\n",
    "                train[i]['error'][k]=error(training1['activation'][k],training1['code'][k])\n",
    "                \n",
    "                train[i]['dweigth1'][k]=dt(inp[0],train[i]['activation'][k],train[i]['code'][k])\n",
    "                train[i]['dweigth2'][k]=dt(inp[1],train[i]['activation'][k],train[i]['code'][k])\n",
    "                train[i]['dweigth3'][k]=dt(inp[2],train[i]['activation'][k],train[i]['code'][k])\n",
    "                train[i]['dweigth4'][k]=dt(inp[3],train[i]['activation'][k],train[i]['code'][k])\n",
    "                train[i]['dbias'][k]=dt(1,train[i]['activation'][k],train[i]['code'][k])\n",
    "                \n",
    "            elif j>0 and k==0:\n",
    "                weigth= [train[i]['weigth1'][k],train[i]['weigth2'][k],train[i]['weigth3'][k],train[i]['weigth4'][k]]\n",
    "\n",
    "                train[i]['weigth1'][k]= newWeigth(train[i]['weigth1'][79],train[i]['dweigth1'][79],0.8)\n",
    "                train[i]['weigth2'][k]= newWeigth(train[i]['weigth2'][79],train[i]['dweigth2'][79],0.8)\n",
    "                train[i]['weigth3'][k]= newWeigth(train[i]['weigth3'][79],train[i]['dweigth3'][79],0.8)\n",
    "                train[i]['weigth4'][k]= newWeigth(train[i]['weigth4'][79],train[i]['dweigth4'][79],0.8)\n",
    "                train[i]['bias'][k]=newBias(train[i]['bias'][79],train[i]['dbias'][79],0.8)\n",
    "                \n",
    "                train[i]['result'][k]=total(inp,weigth,1,training1['bias'][k])\n",
    "                train[i]['activation'][k]=activation(training1['result'][k])\n",
    "                train[i]['prediction'][k]=prediction(training1['activation'][k])\n",
    "                train[i]['error'][k]=error(training1['activation'][k],training1['code'][k])\n",
    "                \n",
    "                train[i]['dweigth1'][k]=dt(inp[0],train[i]['activation'][k],train[i]['code'][k])\n",
    "                train[i]['dweigth2'][k]=dt(inp[1],train[i]['activation'][k],train[i]['code'][k])\n",
    "                train[i]['dweigth3'][k]=dt(inp[2],train[i]['activation'][k],train[i]['code'][k])\n",
    "                train[i]['dweigth4'][k]=dt(inp[3],train[i]['activation'][k],train[i]['code'][k])\n",
    "                train[i]['dbias'][k]=dt(1,train[i]['activation'][k],train[i]['code'][k])\n",
    "           \n",
    "            elif k>0:\n",
    "                weigth= [train[i]['weigth1'][k],train[i]['weigth2'][k],train[i]['weigth3'][k],train[i]['weigth4'][k]]\n",
    "\n",
    "                train[i]['weigth1'][k]= newWeigth(train[i]['weigth1'][k-1],train[i]['dweigth1'][k-1],0.8)\n",
    "                train[i]['weigth2'][k]= newWeigth(train[i]['weigth2'][k-1],train[i]['dweigth2'][k-1],0.8)\n",
    "                train[i]['weigth3'][k]= newWeigth(train[i]['weigth3'][k-1],train[i]['dweigth3'][k-1],0.8)\n",
    "                train[i]['weigth4'][k]= newWeigth(train[i]['weigth4'][k-1],train[i]['dweigth4'][k-1],0.8)\n",
    "                train[i]['bias'][k]=newBias(train[i]['bias'][k-1],train[i]['dbias'][k-1],0.8)\n",
    "                \n",
    "                train[i]['result'][k]=total(inp,weigth,1,training1['bias'][k])\n",
    "                train[i]['activation'][k]=activation(training1['result'][k])\n",
    "                train[i]['prediction'][k]=prediction(training1['activation'][k])\n",
    "                train[i]['error'][k]=error(training1['activation'][k],training1['code'][k])\n",
    "                \n",
    "                train[i]['dweigth1'][k]=dt(inp[0],train[i]['activation'][k],train[i]['code'][k])\n",
    "                train[i]['dweigth2'][k]=dt(inp[1],train[i]['activation'][k],train[i]['code'][k])\n",
    "                train[i]['dweigth3'][k]=dt(inp[2],train[i]['activation'][k],train[i]['code'][k])\n",
    "                train[i]['dweigth4'][k]=dt(inp[3],train[i]['activation'][k],train[i]['code'][k])\n",
    "                train[i]['dbias']=dt(1,train[i]['activation'][k],train[i]['code'][k])\n",
    "                \n",
    "            plot_error[i][j]=((sum(train[i]['error']))/80)\n",
    "            plot_accuracy[i][j]=accuration(train[i]['prediction'],train[i]['code'])\n",
    "                \n",
    "        for l in range(20):\n",
    "            Inp = [validasi[i]['sepalLength'][l],validasi[i]['sepalWidth'][l],validasi[i]['petalLength'][l],validasi[i]['petalWidth'][l]]\n",
    "            Weigth= [train[i]['weigth1'][k],train[i]['weigth2'][k],train[i]['weigth3'][k],train[i]['weigth4'][k]]\n",
    "\n",
    "            validasi[i]['weigth1'][l]= Weigth[0]\n",
    "            validasi[i]['weigth2'][l]= Weigth[1]\n",
    "            validasi[i]['weigth3'][l]= Weigth[2]\n",
    "            validasi[i]['weigth4'][l]= Weigth[3]\n",
    "\n",
    "            validasi[i]['result'][l]=total(Inp,Weigth,1,validasi[i]['bias'][l])\n",
    "            validasi[i]['activation'][l]=activation(validasi[i]['result'][l])\n",
    "            validasi[i]['prediction'][l]=prediction(validasi[i]['activation'][l])\n",
    "            validasi[i]['error'][l]=error(validasi[i]['activation'][l],train[i]['code'][l])\n",
    "            \n",
    "        plot_errorV[i][j]=((sum(validasi[i]['error']))/20)\n",
    "        plot_accuracyV[i][j]=accuration(validasi[i]['prediction'],validasi[i]['code'])\n",
    "                "
   ]
  },
  {
   "cell_type": "code",
   "execution_count": 14,
   "metadata": {
    "collapsed": false
   },
   "outputs": [
    {
     "data": {
      "image/png": "[encoded data removed]",
      "text/plain": [
       "<matplotlib.figure.Figure at 0x1cca8a8c588>"
      ]
     },
     "metadata": {},
     "output_type": "display_data"
    }
   ],
   "source": [
    "import matplotlib.pyplot as plt\n",
    "#grapich 1 training\n",
    "plt.plot(plot_error[0])\n",
    "plt.plot(plot_accuracy[0])\n",
    "plt.show()\n"
   ]
  },
  {
   "cell_type": "code",
   "execution_count": 15,
   "metadata": {
    "collapsed": false
   },
   "outputs": [
    {
     "data": {
      "image/png": "[encoded data removed]",
      "text/plain": [
       "<matplotlib.figure.Figure at 0x1cca8b83f98>"
      ]
     },
     "metadata": {},
     "output_type": "display_data"
    }
   ],
   "source": [
    "\n",
    "#grapich 3 training\n",
    "plt.plot(plot_error[2])\n",
    "plt.plot(plot_accuracy[2])\n",
    "plt.show()\n"
   ]
  },
  {
   "cell_type": "code",
   "execution_count": 16,
   "metadata": {
    "collapsed": false
   },
   "outputs": [
    {
     "data": {
      "image/png": "[encoded data removed]",
      "text/plain": [
       "<matplotlib.figure.Figure at 0x1cca8c24400>"
      ]
     },
     "metadata": {},
     "output_type": "display_data"
    }
   ],
   "source": [
    "#grapich 4 training\n",
    "plt.plot(plot_error[3])\n",
    "plt.plot(plot_accuracy[3])\n",
    "plt.show()"
   ]
  },
  {
   "cell_type": "code",
   "execution_count": 17,
   "metadata": {
    "collapsed": false
   },
   "outputs": [
    {
     "data": {
      "image/png": "[encoded data removed]",
      "text/plain": [
       "<matplotlib.figure.Figure at 0x1cca8cbee48>"
      ]
     },
     "metadata": {},
     "output_type": "display_data"
    }
   ],
   "source": [
    "#grapich 1 validasi\n",
    "plt.plot(plot_errorV[0])\n",
    "plt.plot(plot_accuracyV[0])\n",
    "plt.show()\n",
    "\n"
   ]
  }
 ],
 "metadata": {
  "kernelspec": {
   "display_name": "Python 3",
   "language": "python",
   "name": "python3"
  },
  "language_info": {
   "codemirror_mode": {
    "name": "ipython",
    "version": 3
   },
   "file_extension": ".py",
   "mimetype": "text/x-python",
   "name": "python",
   "nbconvert_exporter": "python",
   "pygments_lexer": "ipython3",
   "version": "3.6.0"
  }
 },
 "nbformat": 4,
 "nbformat_minor": 2
}
